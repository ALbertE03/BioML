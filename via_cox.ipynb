{
 "cells": [
  {
   "cell_type": "code",
   "execution_count": 17,
   "id": "afbf8854",
   "metadata": {},
   "outputs": [
    {
     "name": "stdout",
     "output_type": "stream",
     "text": [
      "Dimensión datos expresión: (20086, 516)\n",
      "Dimensión datos clínicos: (10, 515)\n"
     ]
    }
   ],
   "source": [
    "import pandas as pd\n",
    "import numpy as np\n",
    "\n",
    "# camino de datos\n",
    "path_clinico = 'data/Human__TCGA_LGG__MS__Clinical__Clinical__01_28_2016__BI__Clinical__Firehose.tsi.txt'\n",
    "path_genes = 'data/Human__TCGA_LGG__UNC__RNAseq__HiSeq_RNA__01_28_2016__BI__Gene__Firehose_RSEM_log2.cct'\n",
    "\n",
    "# carga de datos\n",
    "clin = pd.read_csv(path_clinico, sep='\\t', index_col=0)\n",
    "expr = pd.read_csv(path_genes, sep='\\t', index_col=0)\n",
    "\n",
    "print(f\"Dimensión datos expresión: {expr.shape}\")  # espera genes x muestras\n",
    "print(f\"Dimensión datos clínicos: {clin.shape}\")\n"
   ]
  },
  {
   "cell_type": "markdown",
   "id": "41b9ae43",
   "metadata": {},
   "source": [
    "explicacion"
   ]
  },
  {
   "cell_type": "code",
   "execution_count": 18,
   "id": "44752280",
   "metadata": {},
   "outputs": [
    {
     "name": "stdout",
     "output_type": "stream",
     "text": [
      "Immune genes usados: 117\n",
      "Stromal genes usados: 105\n"
     ]
    },
    {
     "data": {
      "application/vnd.microsoft.datawrangler.viewer.v0+json": {
       "columns": [
        {
         "name": "index",
         "rawType": "object",
         "type": "string"
        },
        {
         "name": "immune_score",
         "rawType": "float64",
         "type": "float"
        },
        {
         "name": "stromal_score",
         "rawType": "float64",
         "type": "float"
        },
        {
         "name": "estimate_score",
         "rawType": "float64",
         "type": "float"
        }
       ],
       "ref": "95adcdd5-5b1f-458d-bad7-5150bf9a8cad",
       "rows": [
        [
         "TCGA.CS.4938",
         "5.967111111111111",
         "7.132758095238095",
         "13.099869206349204"
        ],
        [
         "TCGA.CS.4941",
         "8.132838461538462",
         "8.345324761904761",
         "16.478163223443225"
        ],
        [
         "TCGA.CS.4942",
         "7.464895726495727",
         "7.209185714285715",
         "14.674081440781443"
        ],
        [
         "TCGA.CS.4943",
         "6.138782051282051",
         "7.550288571428571",
         "13.689070622710622"
        ],
        [
         "TCGA.CS.4944",
         "6.482273504273505",
         "7.448769523809525",
         "13.93104302808303"
        ]
       ],
       "shape": {
        "columns": 3,
        "rows": 5
       }
      },
      "text/html": [
       "<div>\n",
       "<style scoped>\n",
       "    .dataframe tbody tr th:only-of-type {\n",
       "        vertical-align: middle;\n",
       "    }\n",
       "\n",
       "    .dataframe tbody tr th {\n",
       "        vertical-align: top;\n",
       "    }\n",
       "\n",
       "    .dataframe thead th {\n",
       "        text-align: right;\n",
       "    }\n",
       "</style>\n",
       "<table border=\"1\" class=\"dataframe\">\n",
       "  <thead>\n",
       "    <tr style=\"text-align: right;\">\n",
       "      <th></th>\n",
       "      <th>immune_score</th>\n",
       "      <th>stromal_score</th>\n",
       "      <th>estimate_score</th>\n",
       "    </tr>\n",
       "  </thead>\n",
       "  <tbody>\n",
       "    <tr>\n",
       "      <th>TCGA.CS.4938</th>\n",
       "      <td>5.967111</td>\n",
       "      <td>7.132758</td>\n",
       "      <td>13.099869</td>\n",
       "    </tr>\n",
       "    <tr>\n",
       "      <th>TCGA.CS.4941</th>\n",
       "      <td>8.132838</td>\n",
       "      <td>8.345325</td>\n",
       "      <td>16.478163</td>\n",
       "    </tr>\n",
       "    <tr>\n",
       "      <th>TCGA.CS.4942</th>\n",
       "      <td>7.464896</td>\n",
       "      <td>7.209186</td>\n",
       "      <td>14.674081</td>\n",
       "    </tr>\n",
       "    <tr>\n",
       "      <th>TCGA.CS.4943</th>\n",
       "      <td>6.138782</td>\n",
       "      <td>7.550289</td>\n",
       "      <td>13.689071</td>\n",
       "    </tr>\n",
       "    <tr>\n",
       "      <th>TCGA.CS.4944</th>\n",
       "      <td>6.482274</td>\n",
       "      <td>7.448770</td>\n",
       "      <td>13.931043</td>\n",
       "    </tr>\n",
       "  </tbody>\n",
       "</table>\n",
       "</div>"
      ],
      "text/plain": [
       "              immune_score  stromal_score  estimate_score\n",
       "TCGA.CS.4938      5.967111       7.132758       13.099869\n",
       "TCGA.CS.4941      8.132838       8.345325       16.478163\n",
       "TCGA.CS.4942      7.464896       7.209186       14.674081\n",
       "TCGA.CS.4943      6.138782       7.550289       13.689071\n",
       "TCGA.CS.4944      6.482274       7.448770       13.931043"
      ]
     },
     "execution_count": 18,
     "metadata": {},
     "output_type": "execute_result"
    }
   ],
   "source": [
    "# Ejemplo: listas simplificadas para immune y stromal genes (debes sustituir por los sets oficiales)\n",
    "immune_genes = [\n",
    "    \"ACAP1\", \"ADAM28\", \"ADGRE3\", \"ATM\", \"BST2\", \"CD247\", \"CD27\", \"CD2\", \"CD3D\", \"CD3E\",\n",
    "    \"CD3G\", \"CD52\", \"CD53\", \"CD6\", \"CD7\", \"CD8A\", \"CD8B\", \"CLEC4A\", \"CLEC7A\", \"CXCL9\",\n",
    "    \"CXCR3\", \"CYBB\", \"DOCK2\", \"FCER1G\", \"FGR\", \"FOXP3\", \"GBP1\", \"GBP2\", \"GBP4\", \"GBP5\",\n",
    "    \"GZMA\", \"GZMB\", \"HLA-DMA\", \"HLA-DMB\", \"HLA-DOA\", \"HLA-DOB\", \"HLA-DPA1\", \"HLA-DPB1\",\n",
    "    \"HLA-DQA1\", \"HLA-DQA2\", \"HLA-DQB1\", \"HLA-DQB2\", \"HLA-DRA\", \"HLA-DRB1\", \"HLA-DRB5\",\n",
    "    \"IFI16\", \"IFIH1\", \"IFIT3\", \"IL10RA\", \"IL2RA\", \"IRF8\", \"LAPTM5\", \"LAIR1\", \"LCP2\", \"LILRB2\",\n",
    "    \"LILRB4\", \"LYN\", \"MS4A1\", \"MPEG1\", \"MX1\", \"NCKAP1L\", \"NLRC4\", \"NOD2\", \"NRP1\", \"P2RY12\",\n",
    "    \"PTPRC\", \"PTPN7\", \"PTPN22\", \"SASH3\", \"SIRPA\", \"SLA\", \"SLAMF6\", \"SPI1\", \"STAT1\", \"STAT4\",\n",
    "    \"SYK\", \"TBX21\", \"TLR1\", \"TLR3\", \"TLR6\", \"TLR7\", \"TREM2\", \"TRIM21\", \"TRIM68\", \"TYROBP\",\n",
    "    \"WAS\", \"ZAP70\", \"CLEC12A\", \"S1PR4\", \"SPN\", \"CXCL10\", \"CXCL11\", \"CCL4\", \"CCL5\", \"CCR5\",\n",
    "    \"CCR7\", \"CD40LG\", \"ITGAL\", \"PACSIN1\", \"SH2D1A\", \"PRKCB\", \"TAP1\", \"TAP2\", \"TAPBP\",\n",
    "    \"TRIM25\", \"CD274\", \"PDCD1\", \"CTLA4\", \"TIGIT\", \"ICOS\", \"FOXP3\", \"IL7R\", \"GZMK\", \"NAT2\",\n",
    "    \"HLA-A\", \"HLA-B\", \"HLA-C\", \"IFIT3\"\n",
    "]\n",
    "\n",
    "stromal_genes = [\n",
    "    \"ABI3\", \"ACVRL1\", \"ADAM12\", \"ADAMTS12\", \"AEBP1\", \"AGRN\", \"ANGPT1\", \"ANTXR1\",\n",
    "    \"AQP1\", \"ASPN\", \"BGN\", \"BMP4\", \"CDH11\", \"COL1A1\", \"COL1A2\", \"COL3A1\", \"COL5A1\",\n",
    "    \"COL5A2\", \"COL6A1\", \"COL6A2\", \"COL6A3\", \"COL8A1\", \"COL8A2\", \"COMP\", \"CRTAC1\",\n",
    "    \"DDIT4\", \"DCN\", \"DPT\", \"ELN\", \"ENG\", \"FAP\", \"FBN1\", \"FBLN2\", \"FBN3\", \"FCN3\", \"FGF7\",\n",
    "    \"FHL2\", \"FLI1\", \"FN1\", \"FOXC1\", \"GJA4\", \"GJA5\", \"GLT8D2\", \"GREM1\", \"HAPLN1\",\n",
    "    \"HAS2\", \"HGF\", \"HLF\", \"ICAM1\", \"IGFBP5\", \"ITGA11\", \"ITGA8\", \"ITGAX\", \"ITGB8\",\n",
    "    \"JAM2\", \"KCNJ8\", \"KDR\", \"LAMA1\", \"LAMA2\", \"LAMA4\", \"LAMB1\", \"LAMC1\", \"LMO2\",\n",
    "    \"MMP2\", \"MMP3\", \"MMP11\", \"MMP14\", \"MMP16\", \"MMP9\", \"MXRA5\", \"MYH11\",\n",
    "    \"NID2\", \"PDGFA\", \"PDGFRA\", \"PDGFRB\", \"PECAM1\", \"PLOD1\", \"POSTN\", \"PTGS2\",\n",
    "    \"RGS5\", \"RSPO3\", \"SCRG1\", \"SEMA3A\", \"SERPINE1\", \"SIGLEC1\", \"SLC2A3\", \"SLIT2\",\n",
    "    \"SMOC2\", \"SPON1\", \"SPARC\", \"SPP1\", \"STC1\", \"TCF21\", \"TGFB3\", \"TIMP1\", \"TNC\",\n",
    "    \"TNXB\", \"TPM1\", \"TPM2\", \"VCAN\", \"VWF\", \"WISP1\", \"XDH\", \"ZEB1\", \"ZNF423\"\n",
    "]\n",
    "\n",
    "# Filtrar genes presentes en el dataset\n",
    "immune_genes_present = [g for g in immune_genes if g in expr.index]\n",
    "stromal_genes_present = [g for g in stromal_genes if g in expr.index]\n",
    "\n",
    "print(f\"Immune genes usados: {len(immune_genes_present)}\")\n",
    "print(f\"Stromal genes usados: {len(stromal_genes_present)}\")\n",
    "\n",
    "# Calcular scores: promedio expresión de genes de cada set para cada muestra\n",
    "immune_score = expr.loc[immune_genes_present].mean(axis=0)\n",
    "stromal_score = expr.loc[stromal_genes_present].mean(axis=0)\n",
    "\n",
    "# Score ESTIMATE aproximado como simple suma de scores\n",
    "estimate_score = immune_score + stromal_score\n",
    "\n",
    "# Unir en un DataFrame para análisis posterior\n",
    "scores_df = pd.DataFrame({\n",
    "    'immune_score': immune_score,\n",
    "    'stromal_score': stromal_score,\n",
    "    'estimate_score': estimate_score\n",
    "})\n",
    "\n",
    "scores_df.head()"
   ]
  },
  {
   "cell_type": "markdown",
   "id": "2fa64f3c",
   "metadata": {},
   "source": [
    "preprocesameinto clin"
   ]
  },
  {
   "cell_type": "code",
   "execution_count": 19,
   "id": "46f27b31",
   "metadata": {},
   "outputs": [
    {
     "data": {
      "application/vnd.microsoft.datawrangler.viewer.v0+json": {
       "columns": [
        {
         "name": "index",
         "rawType": "object",
         "type": "string"
        },
        {
         "name": "years_to_birth",
         "rawType": "object",
         "type": "string"
        },
        {
         "name": "Tumor_purity",
         "rawType": "object",
         "type": "string"
        },
        {
         "name": "histological_type",
         "rawType": "object",
         "type": "string"
        },
        {
         "name": "gender",
         "rawType": "object",
         "type": "string"
        },
        {
         "name": "radiation_therapy",
         "rawType": "object",
         "type": "unknown"
        },
        {
         "name": "race",
         "rawType": "object",
         "type": "string"
        },
        {
         "name": "ethnicity",
         "rawType": "object",
         "type": "string"
        },
        {
         "name": "overall_survival",
         "rawType": "object",
         "type": "string"
        },
        {
         "name": "status",
         "rawType": "object",
         "type": "string"
        },
        {
         "name": "overallsurvival",
         "rawType": "object",
         "type": "string"
        }
       ],
       "ref": "c5bed2b4-4d69-47b7-a129-b8c175670da1",
       "rows": [
        [
         "TCGA.CS.6665",
         "51",
         "0.6573",
         "astrocytoma",
         "female",
         "yes",
         "white",
         "nothispanicorlatino",
         "1568",
         " 0",
         "1568,0"
        ],
        [
         "TCGA.CS.6670",
         "43",
         "0.9816",
         "oligodendroglioma",
         "male",
         null,
         "white",
         "nothispanicorlatino",
         "1426",
         " 0",
         "1426,0"
        ],
        [
         "TCGA.DB.A4XC",
         "26",
         "0.8892",
         "oligoastrocytoma",
         "male",
         "yes",
         "white",
         "nothispanicorlatino",
         "1421",
         " 0",
         "1421,0"
        ],
        [
         "TCGA.DH.5141",
         "32",
         "0.9387",
         "oligodendroglioma",
         "male",
         "yes",
         "white",
         "hispanicorlatino",
         " 968",
         " 0",
         "968,0"
        ],
        [
         "TCGA.DH.A66B",
         "52",
         "0.8806",
         "astrocytoma",
         "male",
         "yes",
         "white",
         "nothispanicorlatino",
         "1279",
         " 0",
         "1279,0"
        ]
       ],
       "shape": {
        "columns": 10,
        "rows": 5
       }
      },
      "text/html": [
       "<div>\n",
       "<style scoped>\n",
       "    .dataframe tbody tr th:only-of-type {\n",
       "        vertical-align: middle;\n",
       "    }\n",
       "\n",
       "    .dataframe tbody tr th {\n",
       "        vertical-align: top;\n",
       "    }\n",
       "\n",
       "    .dataframe thead th {\n",
       "        text-align: right;\n",
       "    }\n",
       "</style>\n",
       "<table border=\"1\" class=\"dataframe\">\n",
       "  <thead>\n",
       "    <tr style=\"text-align: right;\">\n",
       "      <th>attrib_name</th>\n",
       "      <th>years_to_birth</th>\n",
       "      <th>Tumor_purity</th>\n",
       "      <th>histological_type</th>\n",
       "      <th>gender</th>\n",
       "      <th>radiation_therapy</th>\n",
       "      <th>race</th>\n",
       "      <th>ethnicity</th>\n",
       "      <th>overall_survival</th>\n",
       "      <th>status</th>\n",
       "      <th>overallsurvival</th>\n",
       "    </tr>\n",
       "  </thead>\n",
       "  <tbody>\n",
       "    <tr>\n",
       "      <th>TCGA.CS.6665</th>\n",
       "      <td>51</td>\n",
       "      <td>0.6573</td>\n",
       "      <td>astrocytoma</td>\n",
       "      <td>female</td>\n",
       "      <td>yes</td>\n",
       "      <td>white</td>\n",
       "      <td>nothispanicorlatino</td>\n",
       "      <td>1568</td>\n",
       "      <td>0</td>\n",
       "      <td>1568,0</td>\n",
       "    </tr>\n",
       "    <tr>\n",
       "      <th>TCGA.CS.6670</th>\n",
       "      <td>43</td>\n",
       "      <td>0.9816</td>\n",
       "      <td>oligodendroglioma</td>\n",
       "      <td>male</td>\n",
       "      <td>NaN</td>\n",
       "      <td>white</td>\n",
       "      <td>nothispanicorlatino</td>\n",
       "      <td>1426</td>\n",
       "      <td>0</td>\n",
       "      <td>1426,0</td>\n",
       "    </tr>\n",
       "    <tr>\n",
       "      <th>TCGA.DB.A4XC</th>\n",
       "      <td>26</td>\n",
       "      <td>0.8892</td>\n",
       "      <td>oligoastrocytoma</td>\n",
       "      <td>male</td>\n",
       "      <td>yes</td>\n",
       "      <td>white</td>\n",
       "      <td>nothispanicorlatino</td>\n",
       "      <td>1421</td>\n",
       "      <td>0</td>\n",
       "      <td>1421,0</td>\n",
       "    </tr>\n",
       "    <tr>\n",
       "      <th>TCGA.DH.5141</th>\n",
       "      <td>32</td>\n",
       "      <td>0.9387</td>\n",
       "      <td>oligodendroglioma</td>\n",
       "      <td>male</td>\n",
       "      <td>yes</td>\n",
       "      <td>white</td>\n",
       "      <td>hispanicorlatino</td>\n",
       "      <td>968</td>\n",
       "      <td>0</td>\n",
       "      <td>968,0</td>\n",
       "    </tr>\n",
       "    <tr>\n",
       "      <th>TCGA.DH.A66B</th>\n",
       "      <td>52</td>\n",
       "      <td>0.8806</td>\n",
       "      <td>astrocytoma</td>\n",
       "      <td>male</td>\n",
       "      <td>yes</td>\n",
       "      <td>white</td>\n",
       "      <td>nothispanicorlatino</td>\n",
       "      <td>1279</td>\n",
       "      <td>0</td>\n",
       "      <td>1279,0</td>\n",
       "    </tr>\n",
       "  </tbody>\n",
       "</table>\n",
       "</div>"
      ],
      "text/plain": [
       "attrib_name  years_to_birth Tumor_purity  histological_type  gender  \\\n",
       "TCGA.CS.6665             51       0.6573        astrocytoma  female   \n",
       "TCGA.CS.6670             43       0.9816  oligodendroglioma    male   \n",
       "TCGA.DB.A4XC             26       0.8892   oligoastrocytoma    male   \n",
       "TCGA.DH.5141             32       0.9387  oligodendroglioma    male   \n",
       "TCGA.DH.A66B             52       0.8806        astrocytoma    male   \n",
       "\n",
       "attrib_name  radiation_therapy   race            ethnicity overall_survival  \\\n",
       "TCGA.CS.6665               yes  white  nothispanicorlatino             1568   \n",
       "TCGA.CS.6670               NaN  white  nothispanicorlatino             1426   \n",
       "TCGA.DB.A4XC               yes  white  nothispanicorlatino             1421   \n",
       "TCGA.DH.5141               yes  white     hispanicorlatino              968   \n",
       "TCGA.DH.A66B               yes  white  nothispanicorlatino             1279   \n",
       "\n",
       "attrib_name  status overallsurvival  \n",
       "TCGA.CS.6665      0          1568,0  \n",
       "TCGA.CS.6670      0          1426,0  \n",
       "TCGA.DB.A4XC      0          1421,0  \n",
       "TCGA.DH.5141      0           968,0  \n",
       "TCGA.DH.A66B      0          1279,0  "
      ]
     },
     "execution_count": 19,
     "metadata": {},
     "output_type": "execute_result"
    }
   ],
   "source": [
    "clin = clin.T\n",
    "clin.head()"
   ]
  },
  {
   "cell_type": "code",
   "execution_count": 20,
   "id": "9a21a82a",
   "metadata": {},
   "outputs": [
    {
     "name": "stdout",
     "output_type": "stream",
     "text": [
      "<class 'pandas.core.frame.DataFrame'>\n",
      "Index: 515 entries, TCGA.CS.6665 to TCGA.WY.A85E\n",
      "Data columns (total 10 columns):\n",
      " #   Column             Non-Null Count  Dtype \n",
      "---  ------             --------------  ----- \n",
      " 0   years_to_birth     514 non-null    object\n",
      " 1   Tumor_purity       515 non-null    object\n",
      " 2   histological_type  515 non-null    object\n",
      " 3   gender             515 non-null    object\n",
      " 4   radiation_therapy  482 non-null    object\n",
      " 5   race               505 non-null    object\n",
      " 6   ethnicity          481 non-null    object\n",
      " 7   overall_survival   481 non-null    object\n",
      " 8   status             481 non-null    object\n",
      " 9   overallsurvival    515 non-null    object\n",
      "dtypes: object(10)\n",
      "memory usage: 44.3+ KB\n"
     ]
    }
   ],
   "source": [
    "clin.info()"
   ]
  },
  {
   "cell_type": "code",
   "execution_count": 21,
   "id": "b95794d2",
   "metadata": {},
   "outputs": [],
   "source": [
    "clin['overall_survival'] = pd.to_numeric(clin['overall_survival'], errors='coerce') # pasar a dias numerico\n",
    "clin = clin.drop(columns=['overallsurvival']) # eliminar por redundante\n",
    "\n",
    "clin['years_to_birth'] = pd.to_numeric(clin['years_to_birth'], errors='coerce') # a numerico la edad\n",
    "\n",
    "clin['Tumor_purity'] = pd.to_numeric(clin['Tumor_purity'], errors='coerce') # a float \n",
    "\n",
    "# categoriales\n",
    "categorical_cols = ['histological_type', 'gender', 'radiation_therapy', 'race', 'ethnicity', 'status']\n",
    "for col in categorical_cols:\n",
    "    # Tomar valores no nulos y convertirlos a categorías\n",
    "    clin[col] = clin[col].astype('category')"
   ]
  },
  {
   "cell_type": "code",
   "execution_count": 22,
   "id": "d64aef4d",
   "metadata": {},
   "outputs": [
    {
     "name": "stdout",
     "output_type": "stream",
     "text": [
      "status\n",
      "0    358\n",
      "1    123\n",
      "Name: count, dtype: int64\n"
     ]
    }
   ],
   "source": [
    "print(clin['status'].value_counts())"
   ]
  },
  {
   "cell_type": "code",
   "execution_count": 23,
   "id": "e583c75b",
   "metadata": {},
   "outputs": [],
   "source": [
    "clin['status'] = pd.to_numeric(clin['status'], errors='coerce')"
   ]
  },
  {
   "cell_type": "code",
   "execution_count": 24,
   "id": "d96a3aeb",
   "metadata": {},
   "outputs": [
    {
     "name": "stdout",
     "output_type": "stream",
     "text": [
      "attrib_name\n",
      "years_to_birth        1\n",
      "Tumor_purity          0\n",
      "histological_type     0\n",
      "gender                0\n",
      "radiation_therapy    33\n",
      "race                 10\n",
      "ethnicity            34\n",
      "overall_survival     34\n",
      "status               34\n",
      "dtype: int64\n"
     ]
    }
   ],
   "source": [
    "print(clin.isna().sum())"
   ]
  },
  {
   "cell_type": "code",
   "execution_count": 27,
   "id": "ce63e672",
   "metadata": {},
   "outputs": [],
   "source": [
    "clin = clin.dropna(subset=['overall_survival', 'status']) # eliminamos aquellos que no tengamos supervivencia y estado"
   ]
  },
  {
   "cell_type": "code",
   "execution_count": 28,
   "id": "fc1a7f28",
   "metadata": {},
   "outputs": [
    {
     "name": "stdout",
     "output_type": "stream",
     "text": [
      "<class 'pandas.core.frame.DataFrame'>\n",
      "Index: 481 entries, TCGA.CS.6665 to TCGA.WY.A85E\n",
      "Data columns (total 9 columns):\n",
      " #   Column             Non-Null Count  Dtype   \n",
      "---  ------             --------------  -----   \n",
      " 0   years_to_birth     480 non-null    float64 \n",
      " 1   Tumor_purity       481 non-null    float64 \n",
      " 2   histological_type  481 non-null    category\n",
      " 3   gender             481 non-null    category\n",
      " 4   radiation_therapy  465 non-null    category\n",
      " 5   race               472 non-null    category\n",
      " 6   ethnicity          450 non-null    category\n",
      " 7   overall_survival   481 non-null    float64 \n",
      " 8   status             481 non-null    float64 \n",
      "dtypes: category(5), float64(4)\n",
      "memory usage: 38.0+ KB\n"
     ]
    }
   ],
   "source": [
    "clin.info()"
   ]
  },
  {
   "cell_type": "code",
   "execution_count": 29,
   "id": "025c51fc",
   "metadata": {},
   "outputs": [
    {
     "data": {
      "application/vnd.microsoft.datawrangler.viewer.v0+json": {
       "columns": [
        {
         "name": "index",
         "rawType": "object",
         "type": "string"
        },
        {
         "name": "years_to_birth",
         "rawType": "float64",
         "type": "float"
        },
        {
         "name": "Tumor_purity",
         "rawType": "float64",
         "type": "float"
        },
        {
         "name": "histological_type",
         "rawType": "category",
         "type": "unknown"
        },
        {
         "name": "gender",
         "rawType": "category",
         "type": "unknown"
        },
        {
         "name": "radiation_therapy",
         "rawType": "category",
         "type": "unknown"
        },
        {
         "name": "race",
         "rawType": "category",
         "type": "unknown"
        },
        {
         "name": "ethnicity",
         "rawType": "category",
         "type": "unknown"
        },
        {
         "name": "overall_survival",
         "rawType": "float64",
         "type": "float"
        },
        {
         "name": "status",
         "rawType": "float64",
         "type": "float"
        }
       ],
       "ref": "c80fc79b-88a6-400b-b57c-6bdb7ee654bf",
       "rows": [
        [
         "TCGA.CS.6665",
         "51.0",
         "0.6573",
         "astrocytoma",
         "female",
         "yes",
         "white",
         "nothispanicorlatino",
         "1568.0",
         "0.0"
        ],
        [
         "TCGA.CS.6670",
         "43.0",
         "0.9816",
         "oligodendroglioma",
         "male",
         null,
         "white",
         "nothispanicorlatino",
         "1426.0",
         "0.0"
        ],
        [
         "TCGA.DB.A4XC",
         "26.0",
         "0.8892",
         "oligoastrocytoma",
         "male",
         "yes",
         "white",
         "nothispanicorlatino",
         "1421.0",
         "0.0"
        ],
        [
         "TCGA.DH.5141",
         "32.0",
         "0.9387",
         "oligodendroglioma",
         "male",
         "yes",
         "white",
         "hispanicorlatino",
         "968.0",
         "0.0"
        ],
        [
         "TCGA.DH.A66B",
         "52.0",
         "0.8806",
         "astrocytoma",
         "male",
         "yes",
         "white",
         "nothispanicorlatino",
         "1279.0",
         "0.0"
        ]
       ],
       "shape": {
        "columns": 9,
        "rows": 5
       }
      },
      "text/html": [
       "<div>\n",
       "<style scoped>\n",
       "    .dataframe tbody tr th:only-of-type {\n",
       "        vertical-align: middle;\n",
       "    }\n",
       "\n",
       "    .dataframe tbody tr th {\n",
       "        vertical-align: top;\n",
       "    }\n",
       "\n",
       "    .dataframe thead th {\n",
       "        text-align: right;\n",
       "    }\n",
       "</style>\n",
       "<table border=\"1\" class=\"dataframe\">\n",
       "  <thead>\n",
       "    <tr style=\"text-align: right;\">\n",
       "      <th>attrib_name</th>\n",
       "      <th>years_to_birth</th>\n",
       "      <th>Tumor_purity</th>\n",
       "      <th>histological_type</th>\n",
       "      <th>gender</th>\n",
       "      <th>radiation_therapy</th>\n",
       "      <th>race</th>\n",
       "      <th>ethnicity</th>\n",
       "      <th>overall_survival</th>\n",
       "      <th>status</th>\n",
       "    </tr>\n",
       "  </thead>\n",
       "  <tbody>\n",
       "    <tr>\n",
       "      <th>TCGA.CS.6665</th>\n",
       "      <td>51.0</td>\n",
       "      <td>0.6573</td>\n",
       "      <td>astrocytoma</td>\n",
       "      <td>female</td>\n",
       "      <td>yes</td>\n",
       "      <td>white</td>\n",
       "      <td>nothispanicorlatino</td>\n",
       "      <td>1568.0</td>\n",
       "      <td>0.0</td>\n",
       "    </tr>\n",
       "    <tr>\n",
       "      <th>TCGA.CS.6670</th>\n",
       "      <td>43.0</td>\n",
       "      <td>0.9816</td>\n",
       "      <td>oligodendroglioma</td>\n",
       "      <td>male</td>\n",
       "      <td>NaN</td>\n",
       "      <td>white</td>\n",
       "      <td>nothispanicorlatino</td>\n",
       "      <td>1426.0</td>\n",
       "      <td>0.0</td>\n",
       "    </tr>\n",
       "    <tr>\n",
       "      <th>TCGA.DB.A4XC</th>\n",
       "      <td>26.0</td>\n",
       "      <td>0.8892</td>\n",
       "      <td>oligoastrocytoma</td>\n",
       "      <td>male</td>\n",
       "      <td>yes</td>\n",
       "      <td>white</td>\n",
       "      <td>nothispanicorlatino</td>\n",
       "      <td>1421.0</td>\n",
       "      <td>0.0</td>\n",
       "    </tr>\n",
       "    <tr>\n",
       "      <th>TCGA.DH.5141</th>\n",
       "      <td>32.0</td>\n",
       "      <td>0.9387</td>\n",
       "      <td>oligodendroglioma</td>\n",
       "      <td>male</td>\n",
       "      <td>yes</td>\n",
       "      <td>white</td>\n",
       "      <td>hispanicorlatino</td>\n",
       "      <td>968.0</td>\n",
       "      <td>0.0</td>\n",
       "    </tr>\n",
       "    <tr>\n",
       "      <th>TCGA.DH.A66B</th>\n",
       "      <td>52.0</td>\n",
       "      <td>0.8806</td>\n",
       "      <td>astrocytoma</td>\n",
       "      <td>male</td>\n",
       "      <td>yes</td>\n",
       "      <td>white</td>\n",
       "      <td>nothispanicorlatino</td>\n",
       "      <td>1279.0</td>\n",
       "      <td>0.0</td>\n",
       "    </tr>\n",
       "  </tbody>\n",
       "</table>\n",
       "</div>"
      ],
      "text/plain": [
       "attrib_name   years_to_birth  Tumor_purity  histological_type  gender  \\\n",
       "TCGA.CS.6665            51.0        0.6573        astrocytoma  female   \n",
       "TCGA.CS.6670            43.0        0.9816  oligodendroglioma    male   \n",
       "TCGA.DB.A4XC            26.0        0.8892   oligoastrocytoma    male   \n",
       "TCGA.DH.5141            32.0        0.9387  oligodendroglioma    male   \n",
       "TCGA.DH.A66B            52.0        0.8806        astrocytoma    male   \n",
       "\n",
       "attrib_name  radiation_therapy   race            ethnicity  overall_survival  \\\n",
       "TCGA.CS.6665               yes  white  nothispanicorlatino            1568.0   \n",
       "TCGA.CS.6670               NaN  white  nothispanicorlatino            1426.0   \n",
       "TCGA.DB.A4XC               yes  white  nothispanicorlatino            1421.0   \n",
       "TCGA.DH.5141               yes  white     hispanicorlatino             968.0   \n",
       "TCGA.DH.A66B               yes  white  nothispanicorlatino            1279.0   \n",
       "\n",
       "attrib_name   status  \n",
       "TCGA.CS.6665     0.0  \n",
       "TCGA.CS.6670     0.0  \n",
       "TCGA.DB.A4XC     0.0  \n",
       "TCGA.DH.5141     0.0  \n",
       "TCGA.DH.A66B     0.0  "
      ]
     },
     "execution_count": 29,
     "metadata": {},
     "output_type": "execute_result"
    }
   ],
   "source": [
    "clin.head()"
   ]
  },
  {
   "cell_type": "markdown",
   "id": "ae85903d",
   "metadata": {},
   "source": [
    "asociacion variables clinicas"
   ]
  },
  {
   "cell_type": "code",
   "execution_count": 31,
   "id": "e1fa4968",
   "metadata": {},
   "outputs": [
    {
     "data": {
      "image/png": "[encoded data removed]",
      "text/plain": [
       "<Figure size 800x600 with 1 Axes>"
      ]
     },
     "metadata": {},
     "output_type": "display_data"
    },
    {
     "name": "stdout",
     "output_type": "stream",
     "text": [
      "P-valor test log-rank (immune score): 0.0013\n"
     ]
    }
   ],
   "source": [
    "import seaborn as sns\n",
    "import matplotlib.pyplot as plt\n",
    "from lifelines import KaplanMeierFitter\n",
    "from lifelines.statistics import logrank_test\n",
    "\n",
    "# Asegurarse que los índices coincidan\n",
    "samples_intersect = clin.index.intersection(scores_df.index)\n",
    "clin_sub = clin.loc[samples_intersect]\n",
    "scores_sub = scores_df.loc[samples_intersect]\n",
    "\n",
    "# Ejemplo visual: distribución immune_score por tumor grade\n",
    "'''sns.boxplot(x=clin_sub['tumor_grade'], y=scores_sub['immune_score'])\n",
    "plt.title('Immune score según grado tumoral')\n",
    "plt.show()'''\n",
    "\n",
    "# Definir grupos high y low según mediana es común\n",
    "median_immune = scores_sub['immune_score'].median()\n",
    "high_immune = scores_sub['immune_score'] >= median_immune\n",
    "\n",
    "# Supervivencia Kaplan-Meier para high vs low immune\n",
    "kmf = KaplanMeierFitter()\n",
    "T = clin_sub['overall_survival']  # Tiempo supervivencia (ej: días)\n",
    "E = clin_sub['status']  # Evento (1 muerto, 0 censurado)\n",
    "\n",
    "plt.figure(figsize=(8,6))\n",
    "kmf.fit(T[high_immune], event_observed=E[high_immune], label='Immune score alto')\n",
    "ax = kmf.plot_survival_function()\n",
    "kmf.fit(T[~high_immune], event_observed=E[~high_immune], label='Immune score bajo')\n",
    "kmf.plot_survival_function(ax=ax)\n",
    "plt.title('Curva Kaplan-Meier: Immune score alto vs bajo')\n",
    "plt.xlabel('Tiempo (días)')\n",
    "plt.ylabel('Probabilidad supervivencia')\n",
    "plt.show()\n",
    "\n",
    "# Test log-rank para comparar grupos\n",
    "result_logrank = logrank_test(T[high_immune], T[~high_immune], event_observed_A=E[high_immune], event_observed_B=E[~high_immune])\n",
    "print(f\"P-valor test log-rank (immune score): {result_logrank.p_value:.4f}\")\n"
   ]
  }
 ],
 "metadata": {
  "kernelspec": {
   "display_name": "entorno",
   "language": "python",
   "name": "python3"
  },
  "language_info": {
   "codemirror_mode": {
    "name": "ipython",
    "version": 3
   },
   "file_extension": ".py",
   "mimetype": "text/x-python",
   "name": "python",
   "nbconvert_exporter": "python",
   "pygments_lexer": "ipython3",
   "version": "3.12.0"
  }
 },
 "nbformat": 4,
 "nbformat_minor": 5
}
